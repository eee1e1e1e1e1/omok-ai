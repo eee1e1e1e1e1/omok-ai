{
  "nbformat": 4,
  "nbformat_minor": 0,
  "metadata": {
    "colab": {
      "name": "play",
      "provenance": [],
      "collapsed_sections": [],
      "authorship_tag": "ABX9TyMoGI612ZbIXT835Y79cYyG",
      "include_colab_link": true
    },
    "kernelspec": {
      "name": "python3",
      "display_name": "Python 3"
    }
  },
  "cells": [
    {
      "cell_type": "markdown",
      "metadata": {
        "id": "view-in-github",
        "colab_type": "text"
      },
      "source": [
        "<a href=\"https://colab.research.google.com/github/gibiee/omok_AI/blob/master/play.ipynb\" target=\"_parent\"><img src=\"https://colab.research.google.com/assets/colab-badge.svg\" alt=\"Open In Colab\"/></a>"
      ]
    },
    {
      "cell_type": "code",
      "metadata": {
        "id": "xX2QhAi703YI",
        "colab_type": "code",
        "colab": {
          "base_uri": "https://localhost:8080/",
          "height": 575
        },
        "outputId": "1355b29c-e64a-40b0-e539-66ac1d1455cb"
      },
      "source": [
        "!pip install -r https://raw.githubusercontent.com/Lasagne/Lasagne/master/requirements.txt\n",
        "!pip install --upgrade https://github.com/Theano/Theano/archive/master.zip\n",
        "!pip install --upgrade https://github.com/Lasagne/Lasagne/archive/master.zip"
      ],
      "execution_count": 1,
      "outputs": [
        {
          "output_type": "stream",
          "text": [
            "Requirement already satisfied: Theano>=0.8.2 in /usr/local/lib/python3.6/dist-packages (from -r https://raw.githubusercontent.com/Lasagne/Lasagne/master/requirements.txt (line 1)) (1.0.4)\n",
            "Requirement already satisfied: scipy>=0.14 in /usr/local/lib/python3.6/dist-packages (from Theano>=0.8.2->-r https://raw.githubusercontent.com/Lasagne/Lasagne/master/requirements.txt (line 1)) (1.4.1)\n",
            "Requirement already satisfied: numpy>=1.9.1 in /usr/local/lib/python3.6/dist-packages (from Theano>=0.8.2->-r https://raw.githubusercontent.com/Lasagne/Lasagne/master/requirements.txt (line 1)) (1.18.3)\n",
            "Requirement already satisfied: six>=1.9.0 in /usr/local/lib/python3.6/dist-packages (from Theano>=0.8.2->-r https://raw.githubusercontent.com/Lasagne/Lasagne/master/requirements.txt (line 1)) (1.12.0)\n",
            "Collecting https://github.com/Theano/Theano/archive/master.zip\n",
            "\u001b[?25l  Downloading https://github.com/Theano/Theano/archive/master.zip\n",
            "\u001b[K     / 28.0MB 419kB/s\n",
            "\u001b[?25hRequirement already satisfied, skipping upgrade: numpy>=1.9.1 in /usr/local/lib/python3.6/dist-packages (from Theano==1.0.4+unknown) (1.18.3)\n",
            "Requirement already satisfied, skipping upgrade: scipy>=0.14 in /usr/local/lib/python3.6/dist-packages (from Theano==1.0.4+unknown) (1.4.1)\n",
            "Requirement already satisfied, skipping upgrade: six>=1.9.0 in /usr/local/lib/python3.6/dist-packages (from Theano==1.0.4+unknown) (1.12.0)\n",
            "Building wheels for collected packages: Theano\n",
            "  Building wheel for Theano (setup.py) ... \u001b[?25l\u001b[?25hdone\n",
            "  Created wheel for Theano: filename=Theano-1.0.4+unknown-cp36-none-any.whl size=2666970 sha256=f0921efad6fddea91e698e606c54cc4a1b5eeb1826f5523c3996efe44fbb779b\n",
            "  Stored in directory: /tmp/pip-ephem-wheel-cache-cyg74dqs/wheels/33/73/96/0ed263c62a86e2485ea634e0d3ae8169d50fd66e3b252541db\n",
            "Successfully built Theano\n",
            "Installing collected packages: Theano\n",
            "  Found existing installation: Theano 1.0.4\n",
            "    Uninstalling Theano-1.0.4:\n",
            "      Successfully uninstalled Theano-1.0.4\n",
            "Successfully installed Theano-1.0.4+unknown\n",
            "Collecting https://github.com/Lasagne/Lasagne/archive/master.zip\n",
            "\u001b[?25l  Downloading https://github.com/Lasagne/Lasagne/archive/master.zip\n",
            "\u001b[K     - 1.0MB 8.4MB/s\n",
            "\u001b[?25hRequirement already satisfied, skipping upgrade: numpy in /usr/local/lib/python3.6/dist-packages (from Lasagne==0.2.dev1) (1.18.3)\n",
            "Building wheels for collected packages: Lasagne\n",
            "  Building wheel for Lasagne (setup.py) ... \u001b[?25l\u001b[?25hdone\n",
            "  Created wheel for Lasagne: filename=Lasagne-0.2.dev1-cp36-none-any.whl size=122797 sha256=7af148b8a33a3418adc02cbd2a207fc3c1200cc3566adb2acfad26311cb1a931\n",
            "  Stored in directory: /tmp/pip-ephem-wheel-cache-1i6g664q/wheels/ca/4a/00/87f1777b229481fe76562df7c0cfb993bc88ed0cc37e3f0ed4\n",
            "Successfully built Lasagne\n",
            "Installing collected packages: Lasagne\n",
            "Successfully installed Lasagne-0.2.dev1\n"
          ],
          "name": "stdout"
        }
      ]
    },
    {
      "cell_type": "code",
      "metadata": {
        "id": "5ISN9Qbc4eWE",
        "colab_type": "code",
        "colab": {
          "base_uri": "https://localhost:8080/",
          "height": 143
        },
        "outputId": "83cf100c-de17-4b88-88c1-247679bf95d2"
      },
      "source": [
        "!git clone https://github.com/gibiee/omok_AI.git"
      ],
      "execution_count": 2,
      "outputs": [
        {
          "output_type": "stream",
          "text": [
            "Cloning into 'omok_AI'...\n",
            "remote: Enumerating objects: 326, done.\u001b[K\n",
            "remote: Counting objects: 100% (326/326), done.\u001b[K\n",
            "remote: Compressing objects: 100% (230/230), done.\u001b[K\n",
            "remote: Total 326 (delta 196), reused 217 (delta 90), pack-reused 0\u001b[K\n",
            "Receiving objects: 100% (326/326), 31.57 MiB | 29.44 MiB/s, done.\n",
            "Resolving deltas: 100% (196/196), done.\n"
          ],
          "name": "stdout"
        }
      ]
    },
    {
      "cell_type": "code",
      "metadata": {
        "id": "mGwGoTiX4fqp",
        "colab_type": "code",
        "colab": {}
      },
      "source": [
        "!python omok_AI/human_play.py"
      ],
      "execution_count": 0,
      "outputs": []
    }
  ]
}