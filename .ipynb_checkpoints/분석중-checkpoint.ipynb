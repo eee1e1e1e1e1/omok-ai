{
 "cells": [
  {
   "cell_type": "code",
   "execution_count": 89,
   "metadata": {},
   "outputs": [
    {
     "ename": "AssertionError",
     "evalue": "",
     "output_type": "error",
     "traceback": [
      "\u001b[1;31m---------------------------------------------------------------------------\u001b[0m",
      "\u001b[1;31mAssertionError\u001b[0m                            Traceback (most recent call last)",
      "\u001b[1;32m<ipython-input-89-f6cb9f0f4711>\u001b[0m in \u001b[0;36m<module>\u001b[1;34m\u001b[0m\n\u001b[0;32m      1\u001b[0m \u001b[0ma\u001b[0m \u001b[1;33m=\u001b[0m \u001b[1;36m10\u001b[0m\u001b[1;33m\u001b[0m\u001b[1;33m\u001b[0m\u001b[0m\n\u001b[1;32m----> 2\u001b[1;33m \u001b[1;32massert\u001b[0m \u001b[0ma\u001b[0m\u001b[1;33m==\u001b[0m\u001b[1;36m5\u001b[0m\u001b[1;33m\u001b[0m\u001b[1;33m\u001b[0m\u001b[0m\n\u001b[0m\u001b[0;32m      3\u001b[0m \u001b[0mprint\u001b[0m\u001b[1;33m(\u001b[0m\u001b[1;33m)\u001b[0m\u001b[1;33m\u001b[0m\u001b[1;33m\u001b[0m\u001b[0m\n",
      "\u001b[1;31mAssertionError\u001b[0m: "
     ]
    }
   ],
   "source": [
    "a = 10\n",
    "assert a==5\n",
    "print()"
   ]
  },
  {
   "cell_type": "code",
   "execution_count": 7,
   "metadata": {},
   "outputs": [
    {
     "name": "stdout",
     "output_type": "stream",
     "text": [
      "   7   6   5   4   3   2   1   0"
     ]
    }
   ],
   "source": [
    "for i in range(8 - 1, -1, -1):\n",
    "    print(\"{0:4d}\".format(i), end='')"
   ]
  },
  {
   "cell_type": "code",
   "execution_count": 133,
   "metadata": {
    "scrolled": true
   },
   "outputs": [
    {
     "name": "stdout",
     "output_type": "stream",
     "text": [
      "　０１２３４５６７\n",
      "7 ●　　　　　　　\n",
      "6 　　　　　　　　\n",
      "5 　　　○　●　　\n",
      "4 　　　　　　○　\n",
      "3 　○　●○　　　\n",
      "2 　　　　○　　●\n",
      "1 　　○　　　　●\n",
      "0 ○　　　●　　　\n"
     ]
    }
   ],
   "source": [
    "width, height = 8,8 \n",
    "row_number = ['０','１','２','３','４','５','６','７']\n",
    "print('　', end='')\n",
    "for x in row_number : print(x, end='')\n",
    "print()\n",
    "for i in range(height - 1, -1, -1):\n",
    "    print(f\"{i} \", end='')\n",
    "    for j in range(width):\n",
    "        loc = i * width + j\n",
    "        p = random.randrange(1,9)\n",
    "        if p == 1 : print('●', end='')\n",
    "        elif p == 2 : print('○', end='')\n",
    "        else : print('　', end='')\n",
    "    print()"
   ]
  },
  {
   "cell_type": "code",
   "execution_count": 21,
   "metadata": {},
   "outputs": [
    {
     "name": "stdout",
     "output_type": "stream",
     "text": [
      "0.32532523981290423\n",
      "0.325325\n"
     ]
    }
   ],
   "source": [
    "a = 0.32532523981290423523572015\n",
    "print(a)\n",
    "print(f\"{a:6f}\")"
   ]
  },
  {
   "cell_type": "code",
   "execution_count": null,
   "metadata": {},
   "outputs": [],
   "source": []
  }
 ],
 "metadata": {
  "kernelspec": {
   "display_name": "Python 3",
   "language": "python",
   "name": "python3"
  },
  "language_info": {
   "codemirror_mode": {
    "name": "ipython",
    "version": 3
   },
   "file_extension": ".py",
   "mimetype": "text/x-python",
   "name": "python",
   "nbconvert_exporter": "python",
   "pygments_lexer": "ipython3",
   "version": "3.7.7"
  }
 },
 "nbformat": 4,
 "nbformat_minor": 4
}
